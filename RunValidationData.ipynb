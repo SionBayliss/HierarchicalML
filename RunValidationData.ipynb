{
 "cells": [
  {
   "cell_type": "markdown",
   "id": "7d9a751b",
   "metadata": {},
   "source": [
    "# process a validation unitig dataset \n",
    "- a validation dataset of unitig/pattern features *** genomes will be run through the HC for classification "
   ]
  },
  {
   "cell_type": "code",
   "execution_count": 1,
   "id": "2b02825b",
   "metadata": {},
   "outputs": [],
   "source": [
    "# dependencies \n",
    "import networkx as nx\n",
    "import numpy as np\n",
    "import pandas as pd\n",
    "import copy \n",
    "import pickle\n",
    "import gzip\n",
    "import time\n",
    "\n",
    "from sklearn.model_selection import train_test_split, RandomizedSearchCV, StratifiedKFold, cross_validate\n",
    "from sklearn.metrics import accuracy_score, balanced_accuracy_score, confusion_matrix, classification_report\n",
    "\n",
    "from matplotlib import pyplot as plt\n",
    "\n",
    "# import hierarchical classification package\n",
    "import sys\n",
    "sys.path.append( './HC_package')\n",
    "from HierarchicalClassification import *"
   ]
  },
  {
   "cell_type": "code",
   "execution_count": 2,
   "id": "6858d6c6",
   "metadata": {},
   "outputs": [],
   "source": [
    "# set variables \n",
    "seed = 34\n",
    "\n",
    "example_outputs = \"./model_outputs\""
   ]
  },
  {
   "cell_type": "code",
   "execution_count": 3,
   "id": "e1172afa",
   "metadata": {},
   "outputs": [],
   "source": [
    "# features\n",
    "validation_features  = pd.read_csv(\"./data/ncbi_patterns.tab.zip\", sep = \"\\t\", index_col = \"pattern_id\", compression='zip')"
   ]
  },
  {
   "cell_type": "code",
   "execution_count": 4,
   "id": "d7676af5",
   "metadata": {},
   "outputs": [],
   "source": [
    "# labels \n",
    "validation_labels_raw = pd.read_csv(\"./data/ncbi_labels.tab\", sep = \"\\t\", header = None, index_col = 0)"
   ]
  },
  {
   "cell_type": "code",
   "execution_count": 5,
   "id": "1b111719",
   "metadata": {},
   "outputs": [],
   "source": [
    "# order labels on colnames of features\n",
    "lab_ind = pd.DataFrame(index=validation_features.columns)\n",
    "validation_labels = lab_ind.join(validation_labels_raw)[1]"
   ]
  },
  {
   "cell_type": "code",
   "execution_count": 6,
   "id": "2f56f065",
   "metadata": {},
   "outputs": [
    {
     "name": "stdout",
     "output_type": "stream",
     "text": [
      "(94860, 430)\n",
      "(430,)\n"
     ]
    }
   ],
   "source": [
    "print(validation_features.shape)\n",
    "print(validation_labels.shape)"
   ]
  },
  {
   "cell_type": "code",
   "execution_count": 7,
   "id": "41b66409",
   "metadata": {},
   "outputs": [],
   "source": [
    "# load trained model\n",
    "with gzip.open(\"./model_outputs/models.pkl.gz\", 'rb') as f:\n",
    "    models = pickle.load(f)"
   ]
  },
  {
   "cell_type": "code",
   "execution_count": 8,
   "id": "ee2403a7",
   "metadata": {},
   "outputs": [],
   "source": [
    "# load graph\n",
    "with open(\"./data/graph.pkl\", 'rb') as f:\n",
    "    graph = pickle.load(f)"
   ]
  },
  {
   "cell_type": "code",
   "execution_count": 9,
   "id": "7f87c8fa",
   "metadata": {},
   "outputs": [],
   "source": [
    "# load model feature names\n",
    "feature_list = np.loadtxt(\"./data/feature_list.txt\", dtype = int)"
   ]
  },
  {
   "cell_type": "code",
   "execution_count": 10,
   "id": "39d7dd14",
   "metadata": {},
   "outputs": [
    {
     "name": "stdout",
     "output_type": "stream",
     "text": [
      "(430, 89481)\n"
     ]
    }
   ],
   "source": [
    "# check for intersection between model features and input features\n",
    "filtered_features = copy.copy(validation_features.loc[feature_list].T)\n",
    "print(filtered_features.shape)"
   ]
  },
  {
   "cell_type": "code",
   "execution_count": 11,
   "id": "e95834b2",
   "metadata": {},
   "outputs": [
    {
     "name": "stdout",
     "output_type": "stream",
     "text": [
      "classification took  6.980911493301392  seconds\n"
     ]
    }
   ],
   "source": [
    "# classify new samples\n",
    "timeb4 = time.time()\n",
    "\n",
    "# classify test sample\n",
    "(classification_table_validate, classifications_validate) = classify_samples_in_hierarchy(graph, filtered_features, \n",
    "                                                                           models,\n",
    "                                                                           mode = 'max', \n",
    "                                                                           threshold = 0.500001)\n",
    "\n",
    "\n",
    "timeafter = time.time()\n",
    "total_seconds = timeafter-timeb4\n",
    "print(\"classification took \", total_seconds, \" seconds\")"
   ]
  },
  {
   "cell_type": "code",
   "execution_count": 12,
   "id": "de50d411",
   "metadata": {},
   "outputs": [],
   "source": [
    "# save classification per sample\n",
    "real_class_labs = pd.DataFrame(validation_labels).rename(columns = {1:'real'})\n",
    "merged_classifications = pd.merge(real_class_labs, classifications_validate, left_index=True, right_index=True).rename(columns = {'classification':'prediction'})"
   ]
  },
  {
   "cell_type": "code",
   "execution_count": 13,
   "id": "749f3e92",
   "metadata": {},
   "outputs": [],
   "source": [
    "merged_classifications.to_csv(\"%s/validation - classifications.tsv\" % example_outputs, \n",
    "                           sep = \"\\t\", header = True, index = False)"
   ]
  },
  {
   "cell_type": "code",
   "execution_count": 14,
   "id": "8811a875",
   "metadata": {},
   "outputs": [],
   "source": [
    "(summary_train, summary_table_train) = summary_statistics_per_class(graph, validation_labels, \n",
    "                                                                    classifications_validate, \n",
    "                                                                    penalty=False)"
   ]
  },
  {
   "cell_type": "code",
   "execution_count": 15,
   "id": "4ab4f9bb",
   "metadata": {},
   "outputs": [],
   "source": [
    "# save training summaries\n",
    "summary_table_train.to_csv(\"%s/validation - summary.tsv\" % example_outputs, \n",
    "                           sep = \"\\t\", header = True, index = False)"
   ]
  },
  {
   "cell_type": "code",
   "execution_count": 16,
   "id": "401376f3",
   "metadata": {},
   "outputs": [
    {
     "name": "stdout",
     "output_type": "stream",
     "text": [
      "classes in model:['Africa' 'Americas' 'Asia' 'Europe']\n",
      "classes in model:['Northern Africa' 'Sub-Saharan Africa']\n",
      "classes in model:['Latin America and the Caribbean' 'Northern America']\n",
      "classes in model:['Eastern Asia' 'South-eastern Asia' 'Southern Asia' 'Western Asia']\n",
      "classes in model:['Eastern Europe' 'Southern Europe' 'Western Europe']\n",
      "classes in model:['Bulgaria' 'Czech republic' 'Hungary' 'Poland' 'Russian federation']\n"
     ]
    },
    {
     "name": "stderr",
     "output_type": "stream",
     "text": [
      "/home/sbayliss/miniconda3/envs/PHE_ML_CLIMB_version/lib/python3.9/site-packages/sklearn/metrics/_classification.py:1248: UndefinedMetricWarning: Recall and F-score are ill-defined and being set to 0.0 in labels with no true samples. Use `zero_division` parameter to control this behavior.\n",
      "  _warn_prf(average, modifier, msg_start, len(result))\n",
      "/home/sbayliss/miniconda3/envs/PHE_ML_CLIMB_version/lib/python3.9/site-packages/sklearn/metrics/_classification.py:1248: UndefinedMetricWarning: Recall and F-score are ill-defined and being set to 0.0 in labels with no true samples. Use `zero_division` parameter to control this behavior.\n",
      "  _warn_prf(average, modifier, msg_start, len(result))\n",
      "/home/sbayliss/miniconda3/envs/PHE_ML_CLIMB_version/lib/python3.9/site-packages/sklearn/metrics/_classification.py:1248: UndefinedMetricWarning: Recall and F-score are ill-defined and being set to 0.0 in labels with no true samples. Use `zero_division` parameter to control this behavior.\n",
      "  _warn_prf(average, modifier, msg_start, len(result))\n",
      "/home/sbayliss/miniconda3/envs/PHE_ML_CLIMB_version/lib/python3.9/site-packages/sklearn/metrics/_classification.py:1854: UserWarning: y_pred contains classes not in y_true\n",
      "  warnings.warn('y_pred contains classes not in y_true')\n"
     ]
    },
    {
     "name": "stdout",
     "output_type": "stream",
     "text": [
      "classes in model:['Barbados' 'Cuba' 'Dominica' 'Dominican republic' 'Jamaica' 'Mexico']\n"
     ]
    },
    {
     "name": "stderr",
     "output_type": "stream",
     "text": [
      "/home/sbayliss/miniconda3/envs/PHE_ML_CLIMB_version/lib/python3.9/site-packages/sklearn/metrics/_classification.py:1248: UndefinedMetricWarning: Precision and F-score are ill-defined and being set to 0.0 in labels with no predicted samples. Use `zero_division` parameter to control this behavior.\n",
      "  _warn_prf(average, modifier, msg_start, len(result))\n",
      "/home/sbayliss/miniconda3/envs/PHE_ML_CLIMB_version/lib/python3.9/site-packages/sklearn/metrics/_classification.py:1248: UndefinedMetricWarning: Recall and F-score are ill-defined and being set to 0.0 in labels with no true samples. Use `zero_division` parameter to control this behavior.\n",
      "  _warn_prf(average, modifier, msg_start, len(result))\n",
      "/home/sbayliss/miniconda3/envs/PHE_ML_CLIMB_version/lib/python3.9/site-packages/sklearn/metrics/_classification.py:1248: UndefinedMetricWarning: Precision and F-score are ill-defined and being set to 0.0 in labels with no predicted samples. Use `zero_division` parameter to control this behavior.\n",
      "  _warn_prf(average, modifier, msg_start, len(result))\n",
      "/home/sbayliss/miniconda3/envs/PHE_ML_CLIMB_version/lib/python3.9/site-packages/sklearn/metrics/_classification.py:1248: UndefinedMetricWarning: Recall and F-score are ill-defined and being set to 0.0 in labels with no true samples. Use `zero_division` parameter to control this behavior.\n",
      "  _warn_prf(average, modifier, msg_start, len(result))\n",
      "/home/sbayliss/miniconda3/envs/PHE_ML_CLIMB_version/lib/python3.9/site-packages/sklearn/metrics/_classification.py:1248: UndefinedMetricWarning: Precision and F-score are ill-defined and being set to 0.0 in labels with no predicted samples. Use `zero_division` parameter to control this behavior.\n",
      "  _warn_prf(average, modifier, msg_start, len(result))\n",
      "/home/sbayliss/miniconda3/envs/PHE_ML_CLIMB_version/lib/python3.9/site-packages/sklearn/metrics/_classification.py:1248: UndefinedMetricWarning: Recall and F-score are ill-defined and being set to 0.0 in labels with no true samples. Use `zero_division` parameter to control this behavior.\n",
      "  _warn_prf(average, modifier, msg_start, len(result))\n",
      "/home/sbayliss/miniconda3/envs/PHE_ML_CLIMB_version/lib/python3.9/site-packages/sklearn/metrics/_classification.py:1854: UserWarning: y_pred contains classes not in y_true\n",
      "  warnings.warn('y_pred contains classes not in y_true')\n"
     ]
    },
    {
     "name": "stdout",
     "output_type": "stream",
     "text": [
      "classes in model:['Egypt' 'Morocco' 'Tunisia']\n",
      "classes in model:['Indonesia' 'Malaysia' 'Singapore' 'Thailand' 'Vietnam']\n"
     ]
    },
    {
     "name": "stderr",
     "output_type": "stream",
     "text": [
      "/home/sbayliss/miniconda3/envs/PHE_ML_CLIMB_version/lib/python3.9/site-packages/sklearn/metrics/_classification.py:1248: UndefinedMetricWarning: Recall and F-score are ill-defined and being set to 0.0 in labels with no true samples. Use `zero_division` parameter to control this behavior.\n",
      "  _warn_prf(average, modifier, msg_start, len(result))\n",
      "/home/sbayliss/miniconda3/envs/PHE_ML_CLIMB_version/lib/python3.9/site-packages/sklearn/metrics/_classification.py:1248: UndefinedMetricWarning: Recall and F-score are ill-defined and being set to 0.0 in labels with no true samples. Use `zero_division` parameter to control this behavior.\n",
      "  _warn_prf(average, modifier, msg_start, len(result))\n",
      "/home/sbayliss/miniconda3/envs/PHE_ML_CLIMB_version/lib/python3.9/site-packages/sklearn/metrics/_classification.py:1248: UndefinedMetricWarning: Recall and F-score are ill-defined and being set to 0.0 in labels with no true samples. Use `zero_division` parameter to control this behavior.\n",
      "  _warn_prf(average, modifier, msg_start, len(result))\n",
      "/home/sbayliss/miniconda3/envs/PHE_ML_CLIMB_version/lib/python3.9/site-packages/sklearn/metrics/_classification.py:1854: UserWarning: y_pred contains classes not in y_true\n",
      "  warnings.warn('y_pred contains classes not in y_true')\n"
     ]
    },
    {
     "name": "stdout",
     "output_type": "stream",
     "text": [
      "classes in model:['India' 'Pakistan' 'Sri lanka']\n",
      "classes in model:['Greece' 'Italy' 'Malta' 'Portugal' 'Spain']\n"
     ]
    },
    {
     "name": "stderr",
     "output_type": "stream",
     "text": [
      "/home/sbayliss/miniconda3/envs/PHE_ML_CLIMB_version/lib/python3.9/site-packages/sklearn/metrics/_classification.py:1248: UndefinedMetricWarning: Precision and F-score are ill-defined and being set to 0.0 in labels with no predicted samples. Use `zero_division` parameter to control this behavior.\n",
      "  _warn_prf(average, modifier, msg_start, len(result))\n",
      "/home/sbayliss/miniconda3/envs/PHE_ML_CLIMB_version/lib/python3.9/site-packages/sklearn/metrics/_classification.py:1248: UndefinedMetricWarning: Precision and F-score are ill-defined and being set to 0.0 in labels with no predicted samples. Use `zero_division` parameter to control this behavior.\n",
      "  _warn_prf(average, modifier, msg_start, len(result))\n",
      "/home/sbayliss/miniconda3/envs/PHE_ML_CLIMB_version/lib/python3.9/site-packages/sklearn/metrics/_classification.py:1248: UndefinedMetricWarning: Precision and F-score are ill-defined and being set to 0.0 in labels with no predicted samples. Use `zero_division` parameter to control this behavior.\n",
      "  _warn_prf(average, modifier, msg_start, len(result))\n"
     ]
    },
    {
     "name": "stdout",
     "output_type": "stream",
     "text": [
      "classes in model:['Cape verde' 'Kenya' 'South africa' 'Tanzania']\n"
     ]
    },
    {
     "name": "stderr",
     "output_type": "stream",
     "text": [
      "/home/sbayliss/miniconda3/envs/PHE_ML_CLIMB_version/lib/python3.9/site-packages/sklearn/metrics/_classification.py:1248: UndefinedMetricWarning: Recall and F-score are ill-defined and being set to 0.0 in labels with no true samples. Use `zero_division` parameter to control this behavior.\n",
      "  _warn_prf(average, modifier, msg_start, len(result))\n",
      "/home/sbayliss/miniconda3/envs/PHE_ML_CLIMB_version/lib/python3.9/site-packages/sklearn/metrics/_classification.py:1248: UndefinedMetricWarning: Recall and F-score are ill-defined and being set to 0.0 in labels with no true samples. Use `zero_division` parameter to control this behavior.\n",
      "  _warn_prf(average, modifier, msg_start, len(result))\n",
      "/home/sbayliss/miniconda3/envs/PHE_ML_CLIMB_version/lib/python3.9/site-packages/sklearn/metrics/_classification.py:1248: UndefinedMetricWarning: Recall and F-score are ill-defined and being set to 0.0 in labels with no true samples. Use `zero_division` parameter to control this behavior.\n",
      "  _warn_prf(average, modifier, msg_start, len(result))\n",
      "/home/sbayliss/miniconda3/envs/PHE_ML_CLIMB_version/lib/python3.9/site-packages/sklearn/metrics/_classification.py:1854: UserWarning: y_pred contains classes not in y_true\n",
      "  warnings.warn('y_pred contains classes not in y_true')\n"
     ]
    },
    {
     "name": "stdout",
     "output_type": "stream",
     "text": [
      "classes in model:['Cyprus' 'Saudi arabia' 'Turkey' 'United Arab Emirates']\n"
     ]
    },
    {
     "name": "stderr",
     "output_type": "stream",
     "text": [
      "/home/sbayliss/miniconda3/envs/PHE_ML_CLIMB_version/lib/python3.9/site-packages/sklearn/metrics/_classification.py:1248: UndefinedMetricWarning: Recall and F-score are ill-defined and being set to 0.0 in labels with no true samples. Use `zero_division` parameter to control this behavior.\n",
      "  _warn_prf(average, modifier, msg_start, len(result))\n",
      "/home/sbayliss/miniconda3/envs/PHE_ML_CLIMB_version/lib/python3.9/site-packages/sklearn/metrics/_classification.py:1248: UndefinedMetricWarning: Recall and F-score are ill-defined and being set to 0.0 in labels with no true samples. Use `zero_division` parameter to control this behavior.\n",
      "  _warn_prf(average, modifier, msg_start, len(result))\n",
      "/home/sbayliss/miniconda3/envs/PHE_ML_CLIMB_version/lib/python3.9/site-packages/sklearn/metrics/_classification.py:1248: UndefinedMetricWarning: Recall and F-score are ill-defined and being set to 0.0 in labels with no true samples. Use `zero_division` parameter to control this behavior.\n",
      "  _warn_prf(average, modifier, msg_start, len(result))\n",
      "/home/sbayliss/miniconda3/envs/PHE_ML_CLIMB_version/lib/python3.9/site-packages/sklearn/metrics/_classification.py:1854: UserWarning: y_pred contains classes not in y_true\n",
      "  warnings.warn('y_pred contains classes not in y_true')\n"
     ]
    }
   ],
   "source": [
    "# access non-hierarchical statistics per node\n",
    "(per_node, per_class, clf_reports) = per_node_summary_stats(graph, validation_labels, filtered_features, models, verbose = True)\n"
   ]
  },
  {
   "cell_type": "code",
   "execution_count": 17,
   "id": "ee917f88",
   "metadata": {},
   "outputs": [],
   "source": [
    "# save per node summary\n",
    "per_node.to_csv(\"%s/validation - per_node_summary.tsv\" % example_outputs, \n",
    "                           sep = \"\\t\", header = True, index = False)\n",
    "\n",
    "# save per class summary\n",
    "per_class.to_csv(\"%s/validation - per_class_summary.tsv\" % example_outputs, \n",
    "                           sep = \"\\t\", header = True, index = False)"
   ]
  },
  {
   "cell_type": "code",
   "execution_count": 18,
   "id": "50dc88bc",
   "metadata": {},
   "outputs": [
    {
     "name": "stdout",
     "output_type": "stream",
     "text": [
      "{'hR': 0.35348837209302325, 'hP': 0.5211428571428571, 'hF1': 0.4212471131639723, 'hAcc': 0.46666666666666684}\n"
     ]
    }
   ],
   "source": [
    "# generate overall hierachical summary stats (for entire dataset)\n",
    "(h_summary) = overall_summary_stats(validation_labels, classifications_validate, graph, penalty=False)\n",
    "print(h_summary)"
   ]
  }
 ],
 "metadata": {
  "kernelspec": {
   "display_name": "Python 3 (ipykernel)",
   "language": "python",
   "name": "python3"
  },
  "language_info": {
   "codemirror_mode": {
    "name": "ipython",
    "version": 3
   },
   "file_extension": ".py",
   "mimetype": "text/x-python",
   "name": "python",
   "nbconvert_exporter": "python",
   "pygments_lexer": "ipython3",
   "version": "3.9.6"
  }
 },
 "nbformat": 4,
 "nbformat_minor": 5
}
